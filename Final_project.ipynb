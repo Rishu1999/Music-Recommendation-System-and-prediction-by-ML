{
 "cells": [
  {
   "cell_type": "code",
   "execution_count": 1,
   "metadata": {},
   "outputs": [],
   "source": [
    "import numpy as np\n",
    "import pandas as pd\n",
    "import  matplotlib.pyplot as plt\n",
    "from matplotlib import rcParams\n",
    "from wordcloud import WordCloud\n",
    "import warnings\n",
    "warnings.filterwarnings(\"ignore\", category=DeprecationWarning)\n",
    "#from subprocess import check_output\n",
    "import seaborn as sbn\n",
    "#import sklearn import cross_validation\n",
    "#from sklearn import cross_validation\n",
    "from sklearn import tree\n",
    "from sklearn import metrics\n",
    "from sklearn import ensemble\n",
    "#from sklearn import grid_search\n",
    "\n"
   ]
  },
  {
   "cell_type": "code",
   "execution_count": 2,
   "metadata": {},
   "outputs": [
    {
     "name": "stdout",
     "output_type": "stream",
     "text": [
      "train_data (7377418, 6)\n",
      "train_data                                            msno  \\\n",
      "0  FGtllVqz18RPiwJj/edr2gV78zirAiY/9SmYvia+kCg=   \n",
      "1  Xumu+NIjS6QYVxDS4/t3SawvJ7viT9hPKXmf0RtLNx8=   \n",
      "2  Xumu+NIjS6QYVxDS4/t3SawvJ7viT9hPKXmf0RtLNx8=   \n",
      "3  Xumu+NIjS6QYVxDS4/t3SawvJ7viT9hPKXmf0RtLNx8=   \n",
      "4  FGtllVqz18RPiwJj/edr2gV78zirAiY/9SmYvia+kCg=   \n",
      "\n",
      "                                        song_id source_system_tab  \\\n",
      "0  BBzumQNXUHKdEBOB7mAJuzok+IJA1c2Ryg/yzTF6tik=           explore   \n",
      "1  bhp/MpSNoqoxOIB+/l8WPqu6jldth4DIpCm3ayXnJqM=        my library   \n",
      "2  JNWfrrC7zNN7BdMpsISKa4Mw+xVJYNnxXh3/Epw7QgY=        my library   \n",
      "3  2A87tzfnJTSWqD7gIZHisolhe4DMdzkbd6LzO1KHjNs=        my library   \n",
      "4  3qm6XTZ6MOCU11x8FIVbAGH5l5uMkT3/ZalWG1oo2Gc=           explore   \n",
      "\n",
      "    source_screen_name      source_type  target  \n",
      "0              Explore  online-playlist       1  \n",
      "1  Local playlist more   local-playlist       1  \n",
      "2  Local playlist more   local-playlist       1  \n",
      "3  Local playlist more   local-playlist       1  \n",
      "4              Explore  online-playlist       1  \n"
     ]
    }
   ],
   "source": [
    "df=pd.read_csv('file:///C:/Users/Rishab/PycharmProjects/Machine_Learning_project/Music_recomandation_sys/Untitled Folder/train.csv')\n",
    "print('train_data',df.shape)\n",
    "print('train_data',df.head())"
   ]
  },
  {
   "cell_type": "code",
   "execution_count": 10,
   "metadata": {},
   "outputs": [
    {
     "name": "stdout",
     "output_type": "stream",
     "text": [
      "test_data (2556790, 6)\n",
      "test_data    id                                          msno  \\\n",
      "0   0  V8ruy7SGk7tDm3zA51DPpn6qutt+vmKMBKa21dp54uM=   \n",
      "1   1  V8ruy7SGk7tDm3zA51DPpn6qutt+vmKMBKa21dp54uM=   \n",
      "2   2  /uQAlrAkaczV+nWCd2sPF2ekvXPRipV7q0l+gbLuxjw=   \n",
      "3   3  1a6oo/iXKatxQx4eS9zTVD+KlSVaAFbTIqVvwLC1Y0k=   \n",
      "4   4  1a6oo/iXKatxQx4eS9zTVD+KlSVaAFbTIqVvwLC1Y0k=   \n",
      "\n",
      "                                        song_id source_system_tab  \\\n",
      "0  WmHKgKMlp1lQMecNdNvDMkvIycZYHnFwDT72I5sIssc=        my library   \n",
      "1  y/rsZ9DC7FwK5F2PK2D5mj+aOBUJAjuu3dZ14NgE0vM=        my library   \n",
      "2  8eZLFOdGVdXBSqoAv5nsLigeH2BvKXzTQYtUM53I0k4=          discover   \n",
      "3  ztCf8thYsS4YN3GcIL/bvoxLm/T5mYBVKOO4C9NiVfQ=             radio   \n",
      "4  MKVMpslKcQhMaFEgcEQhEfi5+RZhMYlU3eRDpySrH8Y=             radio   \n",
      "\n",
      "    source_screen_name          source_type  \n",
      "0  Local playlist more        local-library  \n",
      "1  Local playlist more        local-library  \n",
      "2                  NaN  song-based-playlist  \n",
      "3                Radio                radio  \n",
      "4                Radio                radio  \n"
     ]
    }
   ],
   "source": [
    "df_test=pd.read_csv('file:///D:/data/ML Data/final_codes/test.csv')\n",
    "print(\"test_data\",df_test.shape)\n",
    "print('test_data',df_test.head())"
   ]
  },
  {
   "cell_type": "code",
   "execution_count": null,
   "metadata": {},
   "outputs": [],
   "source": [
    "members=pd.read_csv('file:///D:/data/ML Data/final_codes/members.csv')\n",
    "songs=pd.read_csv('file:///D:/data/ML Data/final_codes/songs.csv')\n",
    "song_extra_info=pd.read_csv('file:///D:/data/ML Data/final_codes/song_extra_info.csv')\n",
    "print('members',members.shape)\n",
    "print('members',members.head())\n",
    "print('song_extra_info',song_extra_info.shape)\n",
    "print('songs',songs.shape)\n",
    "print('song',songs.head())"
   ]
  },
  {
   "cell_type": "code",
   "execution_count": null,
   "metadata": {},
   "outputs": [],
   "source": [
    "#How many times do the user listen to the song again\n",
    "print(df.target.value_counts()*100/df.target.value_counts().sum())"
   ]
  },
  {
   "cell_type": "code",
   "execution_count": null,
   "metadata": {},
   "outputs": [],
   "source": [
    "#rcpharm for knowing the repeated songs\n",
    "print('How many unique song is there',len(df.song_id.unique()))\n",
    "rcParams['figure.figsize']=(20,6)\n",
    "repeats=df[df.target==1]\n",
    "song_repeats=repeats.groupby('song_id',as_index=False).msno.count()\n",
    "song_repeats.columns=['song_id','count']\n",
    "song_repeats=pd.DataFrame(song_repeats).merge(songs,left_on='song_id',right_on='song_id')\n",
    "print('median length of song repeated',song_repeats.\n",
    "      sort_values(by='count',ascending=False)[:2000].song_length.median())\n",
    "#[:2000] is for no of songs 2000 which are repeated\n",
    "print('median length of song repeated',songs.song_length.median())\n"
   ]
  },
  {
   "cell_type": "code",
   "execution_count": null,
   "metadata": {},
   "outputs": [],
   "source": [
    "\n",
    "#top 20 songs which are repeated\n",
    "print('Top 20 songs repeated',song_repeats.song_id.value_counts()[:20])\n",
    "df=pd.DataFrame(song_repeats.sort_values(by='count',ascending=False)[:20])\n",
    "df.artist_name.value_counts().plot(kind='bar')\n",
    "plt.title('20_SONGS')\n",
    "plt.ylabel('Count')\n",
    "plt.xlabel('top 20 repearted songs')\n",
    "#plt.show()"
   ]
  },
  {
   "cell_type": "code",
   "execution_count": null,
   "metadata": {},
   "outputs": [],
   "source": [
    "#print('MOst common composer',repeats.artist_name.value_counts()[:200])\n",
    "\n",
    "df=pd.DataFrame(song_repeats.sort_values(by='count',ascending=False)[:200])\n",
    "df.artist_name.value_counts().plot(kind='bar')\n",
    "plt.title('most common composer')\n",
    "plt.ylabel('Count')\n",
    "plt.xlabel('Composer')\n",
    "#plt.show()"
   ]
  },
  {
   "cell_type": "code",
   "execution_count": null,
   "metadata": {},
   "outputs": [],
   "source": [
    "\n",
    "#language of the most common song\n",
    "import pandas as pd\n",
    "df=pd.DataFrame(song_repeats.sort_values(by='count',ascending=False))\n",
    "df.language.value_counts().plot(kind='bar')\n",
    "plt.title('Language of most common songs')\n",
    "plt.ylabel('Count')\n",
    "plt.xlabel('Language')\n",
    "#plt.show()"
   ]
  },
  {
   "cell_type": "code",
   "execution_count": null,
   "metadata": {},
   "outputs": [],
   "source": [
    "\n",
    "#genarate the most listening song\n",
    "df.genre_ids.value_counts()[:35].plot(kind='bar')\n",
    "plt.title('the most listened of songs')\n",
    "plt.xlabel('genre')\n",
    "plt.ylabel('count')\n",
    "#plt.show()"
   ]
  },
  {
   "cell_type": "code",
   "execution_count": null,
   "metadata": {},
   "outputs": [],
   "source": [
    "\n",
    "#the most common composer\n",
    "df=pd.DataFrame(song_repeats.sort_values(by='count',ascending=False)[:200])\n",
    "df.composer.value_counts().plot(kind='bar')\n",
    "plt.title('most common composer')\n",
    "plt.ylabel('Count')\n",
    "plt.xlabel('Composer')\n",
    "#plt.show()"
   ]
  },
  {
   "cell_type": "code",
   "execution_count": null,
   "metadata": {},
   "outputs": [],
   "source": [
    "\n",
    "#song that are user listen again and again\n",
    "\n",
    "print('user that listen the same song again and again',repeats.msno.value_counts()[:10])\n",
    "repeats.msno.value_counts()[:10].plot(kind='bar')\n",
    "plt.title('song repeats by user')\n",
    "plt.ylabel('repeats by user')\n",
    "plt.xlabel('count')\n",
    "#plt.show()\n"
   ]
  },
  {
   "cell_type": "code",
   "execution_count": null,
   "metadata": {},
   "outputs": [],
   "source": [
    "\n",
    "#song played by system tabs\n",
    "\n",
    "\n",
    "#df=pd.DataFrame(repeats.sort_values(by='count',ascending=False))\n",
    "repeats.source_system_tab.value_counts().plot(kind='bar')\n",
    "plt.title('song repeats by system tabs')\n",
    "plt.ylabel('System tables')\n",
    "plt.xlabel('count')\n",
    "#plt.show()"
   ]
  },
  {
   "cell_type": "code",
   "execution_count": null,
   "metadata": {},
   "outputs": [],
   "source": [
    "\n",
    "#Repeat songs by screen name'\n",
    "repeats.source_screen_name.value_counts().plot(kind='bar')\n",
    "plt.title('Repeat songs by screen name')\n",
    "plt.xlabel('screen names')\n",
    "plt.ylabel('count')\n",
    "#plt.show()\n"
   ]
  },
  {
   "cell_type": "code",
   "execution_count": null,
   "metadata": {},
   "outputs": [],
   "source": [
    "\n",
    "#where the user played the music\n",
    "repeats.source_type.value_counts().plot(kind='bar')\n",
    "plt.title('Where does the user play music from')\n",
    "plt.xlabel('source type')\n",
    "plt.ylabel('count')\n",
    "#plt.show()"
   ]
  },
  {
   "cell_type": "code",
   "execution_count": null,
   "metadata": {},
   "outputs": [],
   "source": [
    "\n",
    "# user repeated common song\n",
    "user_repeats=repeats.merge(members,left_on='msno',right_on='msno',how='left')\n",
    "print('user repeated common song',user_repeats.msno.value_counts()[:20])\n",
    "user_repeats.msno.value_counts()[:20].plot(kind='bar')\n",
    "plt.title('user repeated common song')\n",
    "plt.xlabel('user_repeated_song')\n",
    "plt.ylabel('count')\n",
    "#plt.show()\n"
   ]
  },
  {
   "cell_type": "code",
   "execution_count": null,
   "metadata": {},
   "outputs": [],
   "source": [
    "\n",
    "#user repeated song by gender\n",
    "user_repeats.gender.value_counts(dropna=False).plot(kind='bar')\n",
    "plt.title('Users listening to same song by gender')\n",
    "plt.xlabel('gender')\n",
    "plt.ylabel(\"count\")\n",
    "#plt.show()"
   ]
  },
  {
   "cell_type": "code",
   "execution_count": null,
   "metadata": {},
   "outputs": [],
   "source": [
    "\n",
    "#user repeated song by city\n",
    "user_repeats.city.value_counts().plot(kind='bar')\n",
    "plt.title('repeat users by city')\n",
    "plt.xlabel('city')\n",
    "plt.ylabel('count')\n",
    "#plt.show()"
   ]
  },
  {
   "cell_type": "code",
   "execution_count": null,
   "metadata": {},
   "outputs": [],
   "source": [
    "# repeat users by registration mechanism\n",
    "user_repeats.registered_via.value_counts().plot(kind='bar')\n",
    "plt.title('repeat users by registration mechanism')\n",
    "plt.xlabel('registration mechanism')\n",
    "plt.ylabel('count')\n",
    "#plt.show()\n"
   ]
  },
  {
   "cell_type": "markdown",
   "metadata": {},
   "source": [
    "\n",
    "#########################################\n",
    "\n",
    "starting the Ml algorithim\n"
   ]
  },
  {
   "cell_type": "markdown",
   "metadata": {},
   "source": [
    "@@@@@@@@@@@@@@@@@@@@@@@@@@@@@@@@\n",
    "\n",
    "\n",
    "Linear Regression---------------------"
   ]
  },
  {
   "cell_type": "code",
   "execution_count": 9,
   "metadata": {},
   "outputs": [],
   "source": [
    "df=pd.read_csv('file:///C:/Users/Rishab/PycharmProjects/Machine_Learning_project/Music_recomandation_sys/Untitled Folder/train.csv')\n",
    "df = df.sample(frac=0.4)\n",
    "#print(df.head())"
   ]
  },
  {
   "cell_type": "code",
   "execution_count": 10,
   "metadata": {},
   "outputs": [
    {
     "name": "stdout",
     "output_type": "stream",
     "text": [
      "(2950967, 18)\n"
     ]
    }
   ],
   "source": [
    "#merge the song and member data_sets\n",
    "songs=pd.read_csv('file:///D:/data/ML Data/final_codes/songs.csv')\n",
    "\n",
    "#df=pd.concat([df,songs])\n",
    "df = pd.merge(df, songs, on='song_id', how='left')\n",
    "\n",
    "\n",
    "del songs\n",
    "#print(df.shape)\n",
    "members=pd.read_csv('file:///D:/data/ML Data/final_codes/members.csv')\n",
    "df = pd.merge(df, members, on='msno', how='left')\n",
    "\n",
    "\n",
    "#df=pd.concat([df,members])\n",
    "del members\n",
    "print(df.shape)\n",
    "#print(df.head())"
   ]
  },
  {
   "cell_type": "code",
   "execution_count": 11,
   "metadata": {},
   "outputs": [
    {
     "data": {
      "text/plain": [
       "msno                       0.000000\n",
       "song_id                    0.000000\n",
       "source_system_tab          0.338160\n",
       "source_screen_name         5.629612\n",
       "source_type                0.295293\n",
       "target                     0.000000\n",
       "song_length                0.001457\n",
       "genre_ids                  1.599916\n",
       "artist_name                0.001457\n",
       "composer                  22.685547\n",
       "lyricist                  43.081200\n",
       "language                   0.001762\n",
       "city                       0.000000\n",
       "bd                         0.000000\n",
       "gender                    40.169443\n",
       "registered_via             0.000000\n",
       "registration_init_time     0.000000\n",
       "expiration_date            0.000000\n",
       "dtype: float64"
      ]
     },
     "execution_count": 11,
     "metadata": {},
     "output_type": "execute_result"
    }
   ],
   "source": [
    "#print the null values\n",
    "df.isnull().sum()/df.isnull().count()*100"
   ]
  },
  {
   "cell_type": "code",
   "execution_count": 12,
   "metadata": {},
   "outputs": [
    {
     "name": "stderr",
     "output_type": "stream",
     "text": [
      "C:\\Users\\Rishab\\Anaconda3\\lib\\site-packages\\ipykernel_launcher.py:4: SettingWithCopyWarning: \n",
      "A value is trying to be set on a copy of a slice from a DataFrame\n",
      "\n",
      "See the caveats in the documentation: http://pandas.pydata.org/pandas-docs/stable/indexing.html#indexing-view-versus-copy\n",
      "  after removing the cwd from sys.path.\n"
     ]
    },
    {
     "name": "stdout",
     "output_type": "stream",
     "text": [
      "(2950967, 18)\n"
     ]
    }
   ],
   "source": [
    "#removing the NA values from merge data_set\n",
    "\n",
    "for i in df.select_dtypes(include=['object']).columns:\n",
    "    df[i][df[i].isnull()] = 'unknown'\n",
    "df = df.fillna(value=0)\n",
    "#print(df.head())\n",
    "print(df.shape)\n"
   ]
  },
  {
   "cell_type": "code",
   "execution_count": 13,
   "metadata": {},
   "outputs": [
    {
     "name": "stdout",
     "output_type": "stream",
     "text": [
      "(2950967, 21)\n"
     ]
    }
   ],
   "source": [
    "#creating a column of Registration initial date using mm-yy-dd\n",
    "\n",
    "df.registration_init_time=pd.to_datetime(df.registration_init_time, format='%Y%m%d',errors='ignore')\n",
    "\n",
    "df['registration_init_time_year']=df['registration_init_time'].dt.year\n",
    "df['registration_init_time_month']=df['registration_init_time'].dt.month\n",
    "df['registration_init_time_day']=df['registration_init_time'].dt.day\n",
    "\n",
    "#print(df.head())\n",
    "print(df.shape)"
   ]
  },
  {
   "cell_type": "code",
   "execution_count": 14,
   "metadata": {
    "scrolled": true
   },
   "outputs": [
    {
     "name": "stdout",
     "output_type": "stream",
     "text": [
      "(2950967, 24)\n"
     ]
    }
   ],
   "source": [
    "#creating a column expiration of using yy-mm-dd\n",
    "df.expiration_date=pd.to_datetime(df.expiration_date, format='%Y%m%d',errors='ignore')\n",
    "\n",
    "df['expiration_date_year']=df['expiration_date'].dt.year\n",
    "df['expiration_date_month']=df['registration_init_time'].dt.month\n",
    "df['expiration_date_day']=df['registration_init_time'].dt.day\n",
    "\n",
    "#print(df.head())\n",
    "print(df.shape)"
   ]
  },
  {
   "cell_type": "code",
   "execution_count": 15,
   "metadata": {},
   "outputs": [
    {
     "name": "stdout",
     "output_type": "stream",
     "text": [
      "(2950967, 24)\n"
     ]
    }
   ],
   "source": [
    "# convertion the this two column value into catagorial value\n",
    "\n",
    "df['registration_init_time']=df['registration_init_time'].astype('category')\n",
    "\n",
    "df['expiration_date']=df['expiration_date'].astype('category')\n",
    "\n",
    "#print(df.head())\n",
    "print(df.shape)\n",
    "\n",
    "\n"
   ]
  },
  {
   "cell_type": "code",
   "execution_count": 16,
   "metadata": {},
   "outputs": [],
   "source": [
    "# converting into categorcial values\n",
    "for col in df.select_dtypes(include=['object']).columns:\n",
    "    df[col] = df[col].astype('category')\n",
    "    \n",
    "    \n",
    "# encoding of categorical values\n",
    "for col in df.select_dtypes(include=['category']).columns:\n",
    "    df[col] = df[col].cat.codes\n",
    "df = df.drop(['expiration_date', 'lyricist'], 1)\n",
    "#print(df)"
   ]
  },
  {
   "cell_type": "code",
   "execution_count": 17,
   "metadata": {},
   "outputs": [
    {
     "name": "stdout",
     "output_type": "stream",
     "text": [
      "(2950967, 22)\n"
     ]
    }
   ],
   "source": [
    "print(df.shape)\n",
    "#print(df.columns)"
   ]
  },
  {
   "cell_type": "code",
   "execution_count": null,
   "metadata": {},
   "outputs": [],
   "source": [
    "#print(df.head())"
   ]
  },
  {
   "cell_type": "code",
   "execution_count": 11,
   "metadata": {},
   "outputs": [
    {
     "name": "stdout",
     "output_type": "stream",
     "text": [
      "PCA(copy=True, iterated_power='auto', n_components=2, random_state=None,\n",
      "  svd_solver='auto', tol=0.0, whiten=False)\n",
      "                   pc1            pc2\n",
      "0        -66692.337080    6326.344568\n",
      "1        -84880.082721   30168.553053\n",
      "2        -70090.846893   42209.919180\n",
      "3         92533.879469   23190.865463\n",
      "4        105428.077358  -23546.433816\n",
      "5        -23449.867598  146788.833920\n",
      "6        -37302.110119  -18406.820777\n",
      "7        -64940.060247  -18402.465398\n",
      "8         80575.020004  -49430.517488\n",
      "9        -26889.630723   -1117.304906\n",
      "10       -84972.042077   24116.529479\n",
      "11       -76085.633563   71032.996242\n",
      "12        24705.806316  -55689.488353\n",
      "13       -18845.520429  -63358.930495\n",
      "14        72246.744531   21526.656274\n",
      "15        21070.080528   80335.828768\n",
      "16        81367.124984  -44764.635712\n",
      "17       -31591.541651   20012.599566\n",
      "18      -113654.322580    6588.695712\n",
      "19        56351.747803   -8765.410044\n",
      "20        64061.075180   11550.253515\n",
      "21       -47637.584028  -40130.766270\n",
      "22       -92290.652974   29618.397618\n",
      "23       -62151.458400   -1991.136311\n",
      "24        58378.579052  -50599.843787\n",
      "25       -69341.632396    6891.579602\n",
      "26       -36880.997464   27005.431878\n",
      "27       -76283.572905  -14427.371244\n",
      "28       -64295.530538  -17657.575137\n",
      "29        54877.498217  -52158.707846\n",
      "...                ...            ...\n",
      "2950937   27257.024056  -60088.311237\n",
      "2950938  -38033.035260   66149.944480\n",
      "2950939  -25982.752754   21075.133933\n",
      "2950940    1738.731705  -63968.740846\n",
      "2950941   86466.792478  -57207.180892\n",
      "2950942   54556.244618  -88786.587941\n",
      "2950943   16108.371289   67321.311025\n",
      "2950944 -128016.957873  -25789.291971\n",
      "2950945   85786.722230  -76085.675784\n",
      "2950946   68139.627341   -6027.531884\n",
      "2950947   -2799.650807     -84.859534\n",
      "2950948   22329.437197   32133.821764\n",
      "2950949   34346.965857  -17275.790315\n",
      "2950950  -39349.804571   13788.596259\n",
      "2950951  -77137.626502   20463.487919\n",
      "2950952  -44826.159599    3810.955240\n",
      "2950953  -78764.047689  -47345.126351\n",
      "2950954 -108994.551976   30098.232572\n",
      "2950955    2849.123195  -54513.320712\n",
      "2950956   -3022.552601  -55952.707480\n",
      "2950957 -102911.911122   46669.435060\n",
      "2950958   57123.742854  -67437.506074\n",
      "2950959   34212.461923    4210.050959\n",
      "2950960  -75256.750654   57476.772068\n",
      "2950961    5211.651523  -55791.949784\n",
      "2950962  -20767.545692   17575.580895\n",
      "2950963  -73029.103607   34263.593870\n",
      "2950964   57859.938557  -18869.769584\n",
      "2950965   25138.798999  -33475.322015\n",
      "2950966   66326.799673  143483.666332\n",
      "\n",
      "[2950967 rows x 2 columns]\n"
     ]
    }
   ],
   "source": [
    "from sklearn.decomposition import PCA\n",
    "#principle component analysis\n",
    "#analysis for two columns\n",
    "\n",
    "pca=PCA(n_components=2)\n",
    "\n",
    "t=pca.fit(df[df.columns[df.columns!='target']])\n",
    "print(t)\n",
    "\n",
    "principlecomponent=pca.fit_transform(df)\n",
    "principal=pd.DataFrame(data=principlecomponent,columns=['pc1','pc2'])\n",
    "print(principal)\n",
    "finalDF=pd.concat([principal,df[['target']]],axis=1)"
   ]
  },
  {
   "cell_type": "code",
   "execution_count": null,
   "metadata": {},
   "outputs": [],
   "source": [
    "#finalDF=pd.concat([principal,df[['target']]],axis=1)"
   ]
  },
  {
   "cell_type": "code",
   "execution_count": null,
   "metadata": {},
   "outputs": [],
   "source": [
    "fig=plt.figure(figsize=(8,8))\n",
    "ax=fig.add_subplot(1,1,1)\n",
    "ax.set_xlabel('pc1', fontsize = 15)\n",
    "ax.set_ylabel('pc2', fontsize = 15)\n",
    "ax.set_title('2 Component PCA', fontsize = 15)\n",
    "finalDF['color'] = 'b'\n",
    "finalDF.loc[finalDF['pc1']>100 , 'color'] = 'g'\n",
    "finalDF.loc[finalDF['pc2']>100, 'color'] = 'r'\n",
    "ax.scatter(finalDF['pc1'], finalDF['pc2'], color=finalDF['color'], alpha=0.5)\n",
    "#plt.show()\n",
    "\n",
    "ax.grid()"
   ]
  },
  {
   "cell_type": "markdown",
   "metadata": {},
   "source": [
    "\n",
    "ploting the PCA graph\n",
    "\n",
    "Important point:\n",
    "\n",
    "\n",
    "solver : str, {‘newton-cg’, ‘lbfgs’, ‘liblinear’, ‘sag’, ‘saga’}, optional (default=’liblinear’).\n",
    "Algorithm to use in the optimization problem.\n",
    "\n",
    "#For small datasets, ‘liblinear’ is a good choice, whereas ‘sag’ and ‘saga’ are faster for large ones.\n",
    "\n",
    "#For multiclass problems, only ‘newton-cg’, ‘sag’, ‘saga’ and ‘lbfgs’ \n",
    "\n",
    "#handle multinomial loss; ‘liblinear’ is limited to one-versus-rest schemes.\n",
    "#‘newton-cg’, ‘lbfgs’, ‘sag’ and ‘saga’ handle L2 or no penalty\n",
    "\n",
    "#‘liblinear’ and ‘saga’ also handle L1 penalty\n",
    "\n",
    "#‘saga’ also supports ‘elasticnet’ penalty\n",
    "\n",
    "#‘liblinear’ does not handle no penalty\n"
   ]
  },
  {
   "cell_type": "code",
   "execution_count": null,
   "metadata": {},
   "outputs": [],
   "source": [
    "t=df[df.columns[df.columns!='target']]\n",
    "print(t.shape)\n",
    "print(t.columns)"
   ]
  },
  {
   "cell_type": "code",
   "execution_count": 18,
   "metadata": {},
   "outputs": [
    {
     "name": "stdout",
     "output_type": "stream",
     "text": [
      "(2950967, 21)\n",
      "(2950967, 1)\n"
     ]
    },
    {
     "name": "stderr",
     "output_type": "stream",
     "text": [
      "C:\\Users\\Rishab\\Anaconda3\\lib\\site-packages\\sklearn\\linear_model\\logistic.py:433: FutureWarning: Default solver will be changed to 'lbfgs' in 0.22. Specify a solver to silence this warning.\n",
      "  FutureWarning)\n"
     ]
    },
    {
     "data": {
      "text/plain": [
       "LogisticRegression(C=1.0, class_weight=None, dual=False, fit_intercept=True,\n",
       "          intercept_scaling=1, max_iter=100, multi_class='warn',\n",
       "          n_jobs=None, penalty='l2', random_state=None, solver='warn',\n",
       "          tol=0.0001, verbose=0, warm_start=False)"
      ]
     },
     "execution_count": 18,
     "metadata": {},
     "output_type": "execute_result"
    }
   ],
   "source": [
    "from sklearn.linear_model import LogisticRegression\n",
    "from sklearn import metrics\n",
    "#model=LogisticRegression(penalty='l2', dual=False, tol=0.0001, C=1.0, \n",
    "#                         fit_intercept=True, intercept_scaling=1, class_weight=None,\n",
    " #                        random_state=None, solver='liblinear', max_iter=100,\n",
    "  #                       multi_class='ovr', verbose=0,\n",
    "   #                      warm_start=False, n_jobs=1)\n",
    "\n",
    "#model.fit(df[df.columns[df.columns!='target']],df.target)\n",
    "logreg=LogisticRegression()\n",
    "\n",
    "from sklearn.model_selection import  train_test_split\n",
    "\n",
    "X = df.loc[:, df.columns != 'target']\n",
    "print(X.shape)\n",
    "y = df.loc[:, df.columns == 'target']\n",
    "\n",
    "print(y.shape)\n",
    "\n",
    "\n",
    "\n",
    "y=['y']\n",
    "cols=['msno', 'song_id', 'source_system_tab', 'source_screen_name',\n",
    "       'source_type', 'song_length', 'genre_ids', 'artist_name', 'composer',\n",
    "       'language', 'city', 'bd', 'gender', 'registered_via',\n",
    "       'registration_init_time', 'registration_init_time_year',\n",
    "       'registration_init_time_month', 'registration_init_time_day',\n",
    "       'expiration_date_year', 'expiration_date_month', 'expiration_date_day']\n",
    "X=df[cols]\n",
    "y=df['target']\n",
    "\n",
    "\n",
    "X_train, X_test, y_train, y_test = train_test_split(X, y, test_size=0.3, random_state=0)\n",
    "columns = X_train.columns\n",
    "logreg.fit(X_train, y_train)\n",
    "#print(X_train.head())\n",
    "#print(X_test.head())"
   ]
  },
  {
   "cell_type": "code",
   "execution_count": null,
   "metadata": {},
   "outputs": [],
   "source": [
    "# Implemanting the statmodel\n",
    "import statsmodels.api as sm\n",
    "logit_model=sm.Logit(y,X)\n",
    "result=logit_model.fit()\n",
    "#print(result.summary2())\n",
    "\n",
    "\n"
   ]
  },
  {
   "cell_type": "code",
   "execution_count": 19,
   "metadata": {
    "scrolled": true
   },
   "outputs": [
    {
     "name": "stdout",
     "output_type": "stream",
     "text": [
      "[1 0 1 ... 0 0 1]\n",
      "Accuracy of logistic regression classifier on test set: 59.52 %\n"
     ]
    }
   ],
   "source": [
    "y_pred = logreg.predict(X_test)\n",
    "\n",
    "print(y_pred)\n",
    "print('Accuracy of logistic regression classifier on test set: {:.2f}'\n",
    "      .format(logreg.score(X_test, y_test)*100),'%')\n",
    "\n",
    "#print(X_test,y_test)\n",
    "\n",
    "#print(y_test)"
   ]
  },
  {
   "cell_type": "code",
   "execution_count": 20,
   "metadata": {},
   "outputs": [
    {
     "data": {
      "text/plain": [
       "0.5948467061813975"
      ]
     },
     "execution_count": 20,
     "metadata": {},
     "output_type": "execute_result"
    }
   ],
   "source": [
    "from sklearn.linear_model import LogisticRegression\n",
    "model=LogisticRegression(penalty='l2', dual=False, tol=0.0001, C=1.0, \n",
    "                         fit_intercept=True, intercept_scaling=1, class_weight=None,\n",
    "                         random_state=None, solver='liblinear', max_iter=100,\n",
    "                         multi_class='ovr', verbose=0,\n",
    "                    warm_start=False, n_jobs=1) \n",
    "\n",
    "model.fit(df[df.columns[df.columns!='target']],df.target)\n",
    "model.score(df[df.columns[df.columns != 'target']], df.target)\n"
   ]
  },
  {
   "cell_type": "markdown",
   "metadata": {},
   "source": [
    "CONFUSION MATRIX.............\n",
    "\n"
   ]
  },
  {
   "cell_type": "code",
   "execution_count": 26,
   "metadata": {},
   "outputs": [
    {
     "name": "stdout",
     "output_type": "stream",
     "text": [
      "[[246213 193847]\n",
      " [164532 280699]]\n"
     ]
    }
   ],
   "source": [
    "\n",
    "from sklearn.metrics import confusion_matrix\n",
    "confusion_matrix = confusion_matrix(y_test, y_pred)\n",
    "print(confusion_matrix)\n",
    "\n"
   ]
  },
  {
   "cell_type": "markdown",
   "metadata": {},
   "source": [
    "The result is telling us that we have 246200+193688 correct predictions and 163670+281733 incorrect predictions."
   ]
  },
  {
   "cell_type": "code",
   "execution_count": 43,
   "metadata": {},
   "outputs": [
    {
     "name": "stderr",
     "output_type": "stream",
     "text": [
      "C:\\Users\\Rishab\\Anaconda3\\lib\\site-packages\\ipykernel_launcher.py:14: SettingWithCopyWarning: \n",
      "A value is trying to be set on a copy of a slice from a DataFrame\n",
      "\n",
      "See the caveats in the documentation: http://pandas.pydata.org/pandas-docs/stable/indexing.html#indexing-view-versus-copy\n",
      "  \n"
     ]
    }
   ],
   "source": [
    "df_test=test=pd.read_csv('file:///D:/data/ML Data/final_codes/test.csv')\n",
    "songs =pd.read_csv('file:///D:/data/ML Data/final_codes/songs.csv')\n",
    "df_test = pd.merge(df_test, songs, on='song_id', how='left')\n",
    "del songs\n",
    "# Load and join songs data\n",
    "members =pd.read_csv('file:///D:/data/ML Data/final_codes/members.csv')\n",
    "df_test = pd.merge(df_test, members, on='msno', how='left')\n",
    "del members\n",
    "\n",
    "df_test.isnull().sum()/df_test.isnull().count()*100\n",
    "\n",
    "#replace NA\n",
    "for i in df_test.select_dtypes(include=['object']).columns:\n",
    "    df_test[i][df_test[i].isnull()] = 'unknown'\n",
    "df_test = df_test.fillna(value=0)\n",
    "\n",
    "df_test.registration_init_time = pd.to_datetime(df_test.registration_init_time, format='%Y%m%d', errors='ignore')\n",
    "df_test['registration_init_time_year'] = df_test['registration_init_time'].dt.year\n",
    "df_test['registration_init_time_month'] = df_test['registration_init_time'].dt.month\n",
    "df_test['registration_init_time_day'] = df_test['registration_init_time'].dt.day\n",
    "\n",
    "# expiration_date\n",
    "df_test.expiration_date = pd.to_datetime(df_test.expiration_date,  format='%Y%m%d', errors='ignore')\n",
    "df_test['expiration_date_year'] = df_test['expiration_date'].dt.year\n",
    "df_test['expiration_date_month'] = df_test['expiration_date'].dt.month\n",
    "df_test['expiration_date_day'] = df_test['expiration_date'].dt.day\n",
    "\n",
    "df_test['registration_init_time'] = df_test['registration_init_time'].astype('category')\n",
    "df_test['expiration_date'] = df_test['expiration_date'].astype('category')\n",
    "\n",
    "# Object data to category\n",
    "for col in df_test.select_dtypes(include=['object']).columns:\n",
    "    df_test[col] = df_test[col].astype('category')\n",
    "    \n",
    "# Encoding categorical features\n",
    "for col in df_test.select_dtypes(include=['category']).columns:\n",
    "    df_test[col] = df_test[col].cat.codes"
   ]
  },
  {
   "cell_type": "code",
   "execution_count": 44,
   "metadata": {},
   "outputs": [
    {
     "name": "stdout",
     "output_type": "stream",
     "text": [
      "[0. 0. 0. ... 0. 0. 0.]\n",
      "[1. 1. 0. ... 0. 0. 0.]\n"
     ]
    }
   ],
   "source": [
    "df_test = df_test.drop(['expiration_date', 'lyricist'], 1)\n",
    "\n",
    "predictions=np.zeros(shape=[len(df_test)])\n",
    "print(predictions)\n",
    "predictions+=model.predict(df_test.drop(['id'],axis=1))\n",
    "print(predictions)"
   ]
  },
  {
   "cell_type": "code",
   "execution_count": 45,
   "metadata": {},
   "outputs": [
    {
     "name": "stdout",
     "output_type": "stream",
     "text": [
      "[0.33333333 0.33333333 0.         ... 0.         0.         0.        ]\n"
     ]
    }
   ],
   "source": [
    "predictions = predictions/3\n",
    "print(predictions)\n"
   ]
  },
  {
   "cell_type": "code",
   "execution_count": 49,
   "metadata": {},
   "outputs": [],
   "source": [
    "# predicted result submission file\n",
    "\n",
    "submission=pd.read_csv('file:///D:/data/ML Data/final_codes/sample_submission.csv')\n",
    "#submission=submission.sample(frac=0.6)\n",
    "\n",
    "#fit the target with predictions \n",
    "\n",
    "submission.target=predictions\n",
    "submission.to_csv('LR_PREDICTED_RESULT.csv',index=False)\n",
    "\n",
    "\n"
   ]
  },
  {
   "cell_type": "code",
   "execution_count": 53,
   "metadata": {},
   "outputs": [
    {
     "name": "stdout",
     "output_type": "stream",
     "text": [
      "2950967\n",
      "(1180387, 22)\n",
      "(1770580, 22)\n"
     ]
    }
   ],
   "source": [
    "# plot the roc curb......\n",
    "\n",
    "length=df['target'].count()\n",
    "print(lenth)\n",
    "\n",
    "split=0.40\n",
    "\n",
    "test=df[int(length*(1-split)):length]\n",
    "df=df[:int(length*(1-split))]\n",
    "print(test.shape)\n",
    "print(df.shape)\n"
   ]
  },
  {
   "cell_type": "code",
   "execution_count": 55,
   "metadata": {},
   "outputs": [
    {
     "data": {
      "image/png": "[encoded data removed]",
      "text/plain": [
       "<Figure size 432x288 with 1 Axes>"
      ]
     },
     "metadata": {
      "needs_background": "light"
     },
     "output_type": "display_data"
    }
   ],
   "source": [
    "import matplotlib.pyplot as plt\n",
    "from sklearn import metrics\n",
    "\n",
    "from sklearn.metrics import roc_curve,auc\n",
    "X_test=test.drop(['target'],axis=1)\n",
    "predictions_roc = model.predict(X_test)\n",
    "fpr, tpr, thresholds = roc_curve(test['target'], predictions_roc)\n",
    "roc_auc = auc(fpr, tpr)\n",
    "roc_auc\n",
    "plt.plot(fpr,tpr)\n",
    "\n",
    "plt.show()\n"
   ]
  },
  {
   "cell_type": "code",
   "execution_count": null,
   "metadata": {},
   "outputs": [],
   "source": []
  }
 ],
 "metadata": {
  "kernelspec": {
   "display_name": "Python 3",
   "language": "python",
   "name": "python3"
  },
  "language_info": {
   "codemirror_mode": {
    "name": "ipython",
    "version": 3
   },
   "file_extension": ".py",
   "mimetype": "text/x-python",
   "name": "python",
   "nbconvert_exporter": "python",
   "pygments_lexer": "ipython3",
   "version": "3.7.1"
  }
 },
 "nbformat": 4,
 "nbformat_minor": 2
}
